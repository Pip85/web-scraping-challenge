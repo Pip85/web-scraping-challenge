{
 "cells": [
  {
   "cell_type": "markdown",
   "metadata": {},
   "source": [
    "# Webscraping the following websites for news on upcoming mission to mars:\n",
    "https://redplanetscience.com/\n",
    "https://spaceimages-mars.com\n",
    "https://galaxyfacts-mars.com\n",
    "https://marshemispheres.com/"
   ]
  },
  {
   "cell_type": "code",
   "execution_count": 15,
   "metadata": {},
   "outputs": [],
   "source": [
    "# Import modules for use in webscraping:\n",
    "import pandas as pd\n",
    "from bs4 import BeautifulSoup as bs\n",
    "import requests\n",
    "from splinter import Browser\n",
    "from webdriver_manager.chrome import ChromeDriverManager"
   ]
  },
  {
   "cell_type": "code",
   "execution_count": 16,
   "metadata": {},
   "outputs": [
    {
     "name": "stderr",
     "output_type": "stream",
     "text": [
      "\n",
      "\n",
      "====== WebDriver manager ======\n",
      "Current google-chrome version is 90.0.4430\n",
      "Get LATEST driver version for 90.0.4430\n",
      "Driver [C:\\Users\\pippe\\.wdm\\drivers\\chromedriver\\win32\\90.0.4430.24\\chromedriver.exe] found in cache\n"
     ]
    }
   ],
   "source": [
    "# Setup for working with Browser:\n",
    "\n",
    "executable_path = {'executable_path': ChromeDriverManager().install()}\n",
    "browser = Browser('chrome', **executable_path, headless=False)"
   ]
  },
  {
   "cell_type": "markdown",
   "metadata": {},
   "source": [
    "## Latest News - Mars Mission"
   ]
  },
  {
   "cell_type": "code",
   "execution_count": 17,
   "metadata": {},
   "outputs": [],
   "source": [
    "# URL for news on Mars Mission\n",
    "rps_url = \"https://redplanetscience.com/\"\n",
    "\n",
    "# Use Browser to pull html data and use beautiful soup to parse the data\n",
    "browser.visit(rps_url)\n",
    "rps_html = browser.html\n",
    "rps_soup = bs(rps_html, \"html.parser\")"
   ]
  },
  {
   "cell_type": "code",
   "execution_count": 18,
   "metadata": {},
   "outputs": [
    {
     "name": "stdout",
     "output_type": "stream",
     "text": [
      "AI Is Helping Scientists Discover Fresh Craters on Mars\n",
      "It's the first time machine learning has been used to find previously unknown craters on the Red Planet.\n"
     ]
    }
   ],
   "source": [
    "# Search parsed soup file for latest news title and snippet\n",
    "news_title = rps_soup.find(\"div\", class_=\"content_title\").text\n",
    "news_teaser = rps_soup.find(\"div\", class_ = \"article_teaser_body\").text\n",
    "print(news_title)\n",
    "print(news_teaser)"
   ]
  },
  {
   "cell_type": "markdown",
   "metadata": {},
   "source": [
    "## Capture Mars image"
   ]
  },
  {
   "cell_type": "code",
   "execution_count": 19,
   "metadata": {},
   "outputs": [],
   "source": [
    "# URL for JPL site housing image of Mars\n",
    "jpl_url = \"https://spaceimages-mars.com/\"\n",
    "\n",
    "# Use Browser to pull html data and use beautiful soup to parse the data\n",
    "browser.visit(jpl_url)\n",
    "jpl_html = browser.html\n",
    "jpl_soup = bs(jpl_html, \"html.parser\")"
   ]
  },
  {
   "cell_type": "code",
   "execution_count": 20,
   "metadata": {},
   "outputs": [
    {
     "name": "stdout",
     "output_type": "stream",
     "text": [
      "https://spaceimages-mars.com/image/featured/mars3.jpg\n"
     ]
    }
   ],
   "source": [
    "# Search parsed soup file for html containing Mars image\n",
    "jpl_find_img = jpl_soup.find_all(\"img\", \"headerimage\")\n",
    "\n",
    "# Loop through header data to find the url link of of the image\n",
    "for img in jpl_find_img:\n",
    "    jpl_img = img[\"src\"]\n",
    "\n",
    "# Establish variable to hold the image url    \n",
    "featured_image_url = jpl_url + jpl_img\n",
    "print(featured_image_url) "
   ]
  },
  {
   "cell_type": "markdown",
   "metadata": {},
   "source": [
    "## Mars Facts"
   ]
  },
  {
   "cell_type": "code",
   "execution_count": 21,
   "metadata": {},
   "outputs": [],
   "source": [
    "# URL for facts about Mars\n",
    "facts_url = \"https://galaxyfacts-mars.com\"\n",
    "\n",
    "# Read html from url into variable\n",
    "facts_table = pd.read_html(facts_url)"
   ]
  },
  {
   "cell_type": "code",
   "execution_count": 22,
   "metadata": {},
   "outputs": [],
   "source": [
    "# Create data frame from html data\n",
    "facts_df = facts_table[0]\n",
    "\n",
    "# Create html file from dataframe:\n",
    "facts_df.to_html(\"facts_html\", index=False)"
   ]
  },
  {
   "cell_type": "markdown",
   "metadata": {},
   "source": [
    "## Mars Hemispheres"
   ]
  },
  {
   "cell_type": "code",
   "execution_count": 23,
   "metadata": {},
   "outputs": [],
   "source": [
    "# URL for images of Mars hemispheres\n",
    "hem_url = \"https://marshemispheres.com/\"\n",
    "\n",
    "# Use Browser to pull html data and use beautiful soup to parse the data\n",
    "browser.visit(hem_url)\n",
    "hem_html = browser.html\n",
    "hem_soup = bs(hem_html, \"html.parser\")"
   ]
  },
  {
   "cell_type": "code",
   "execution_count": 24,
   "metadata": {},
   "outputs": [
    {
     "name": "stdout",
     "output_type": "stream",
     "text": [
      "[{'img_url': 'https://marshemispheres.com/images/f5e372a36edfa389625da6d0cc25d905_cerberus_enhanced.tif_full.jpg', 'title': 'Cerberus Hemisphere Enhanced'}, {'img_url': 'https://marshemispheres.com/images/3778f7b43bbbc89d6e3cfabb3613ba93_schiaparelli_enhanced.tif_full.jpg', 'title': 'Schiaparelli Hemisphere Enhanced'}, {'img_url': 'https://marshemispheres.com/images/555e6403a6ddd7ba16ddb0e471cadcf7_syrtis_major_enhanced.tif_full.jpg', 'title': 'Syrtis Major Hemisphere Enhanced'}, {'img_url': 'https://marshemispheres.com/images/b3c7c6c9138f57b4756be9b9c43e3a48_valles_marineris_enhanced.tif_full.jpg', 'title': 'Valles Marineris Hemisphere Enhanced'}]\n"
     ]
    }
   ],
   "source": [
    "# Search soup file for section containing hemisphere titles and html's for images\n",
    "hem_find = hem_soup.find_all(\"div\", class_ = \"item\")\n",
    "\n",
    "# Setup for loop to pull the hemisphere titles from H3 header data\n",
    "# For loop pulls html links for each hemisphere's page\n",
    "# Image link from each hemisphere page is pulled\n",
    "# Hemisphere title and image url are stored in a dictionary\n",
    "hemisphere_image_urls = []\n",
    "\n",
    "for item in hem_find:\n",
    "    title = item.find(\"h3\").text\n",
    "    link = item.find(\"a\", class_ = \"itemLink\")[\"href\"]\n",
    "    hemi_url = hem_url + link\n",
    "    browser.visit(hemi_url)\n",
    "    hemi_url_html = browser.html\n",
    "    hemi_soup = bs(hemi_url_html, \"html.parser\")\n",
    "    img = hem_url + hemi_soup.find(\"img\", class_ = \"wide-image\")[\"src\"]\n",
    "    hemisphere_image_urls.append({\"img_url\": img, \"title\": title})\n",
    " \n",
    "print(hemisphere_image_urls)\n"
   ]
  },
  {
   "cell_type": "code",
   "execution_count": 25,
   "metadata": {},
   "outputs": [],
   "source": [
    "browser.quit()"
   ]
  }
 ],
 "metadata": {
  "kernelspec": {
   "display_name": "Python [conda env:PythonData] *",
   "language": "python",
   "name": "conda-env-PythonData-py"
  },
  "language_info": {
   "codemirror_mode": {
    "name": "ipython",
    "version": 3
   },
   "file_extension": ".py",
   "mimetype": "text/x-python",
   "name": "python",
   "nbconvert_exporter": "python",
   "pygments_lexer": "ipython3",
   "version": "3.6.10"
  }
 },
 "nbformat": 4,
 "nbformat_minor": 4
}
